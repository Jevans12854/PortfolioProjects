{
 "cells": [
  {
   "cell_type": "code",
   "execution_count": 1,
   "id": "ed9d6acd",
   "metadata": {},
   "outputs": [],
   "source": [
    "# import libraries\n",
    "\n",
    "from bs4 import BeautifulSoup\n",
    "import requests\n",
    "import smtplib\n",
    "import time\n",
    "import datetime"
   ]
  },
  {
   "cell_type": "code",
   "execution_count": 2,
   "id": "46e1fe2b",
   "metadata": {},
   "outputs": [],
   "source": [
    "URL = 'https://www.ebay.co.uk/itm/175132003976?_trkparms=%26rpp_cid%3D5d8cce9aa937f33a775e44ce%26rpp_icid%3D5d8cce9aa937f33a775e44cd&_trkparms=pageci%3A60a3bafa-b51b-11ec-8511-9eba6d7cc9ba%7Cparentrq%3Afb52aa1817f0a6e5cec15e9dffffeb00%7Ciid%3A1'\n",
    "headers = {\n",
    "    \"User-Agent\": \"Mozilla/5.0 (Windows NT 10.0; Win64; x64) AppleWebKit/537.36 (KHTML, like Gecko) Chrome/100.0.4896.60 Safari/537.36\", \n",
    "    \"X-Amzn-Trace-Id\": \"Root=1-624b5065-0b8197a643465d4b21e37369\"\n",
    "}\n",
    "page = requests.get(URL,headers= headers)\n",
    "\n",
    "soup1 = BeautifulSoup(page.content,\"html.parser\")\n",
    "\n",
    "soup2 = BeautifulSoup(soup1.prettify(),\"html.parser\")\n",
    "\n",
    "title = soup2.find(id='LeftSummaryPanel').get_text()\n",
    "\n",
    "price = soup2.find(id='vi-mskumap-none').get_text()\n",
    "\n"
   ]
  },
  {
   "cell_type": "code",
   "execution_count": 4,
   "id": "da6fb27d",
   "metadata": {},
   "outputs": [
    {
     "name": "stdout",
     "output_type": "stream",
     "text": [
      "£32.99\n",
      "Samsung AKG Y500 On Ear Bluetooth Headphones Black\n",
      "         \n"
     ]
    }
   ],
   "source": [
    "#Removed extra spaces and unnecessary information using price strip\n",
    "price = price.strip()\n",
    "title = title.strip()\n",
    "\n",
    "print(price)\n",
    "print(title)\n",
    "\n",
    "#Both Title and Price are strings I need to turn this into a list"
   ]
  },
  {
   "cell_type": "code",
   "execution_count": 14,
   "id": "f8ac4b72",
   "metadata": {},
   "outputs": [
    {
     "name": "stdout",
     "output_type": "stream",
     "text": [
      "2022-04-05\n"
     ]
    }
   ],
   "source": [
    "import datetime\n",
    "\n",
    "today = datetime.date.today()\n",
    "\n",
    "print(today)"
   ]
  },
  {
   "cell_type": "code",
   "execution_count": 15,
   "id": "6f1eabaf",
   "metadata": {},
   "outputs": [],
   "source": [
    "import csv\n",
    "\n",
    "header = ['Title','Price','Date']\n",
    "data = [title, price ,today]\n",
    "          \n",
    "type(data)\n",
    "\n",
    "#with open('EbaywebscraperData.csv','w',newline='', encoding='UTF8') as f:\n",
    "    #writer = csv.writer(f)\n",
    "    #writer.writerow(header)\n",
    "    #writer.writerow(data)\n",
    "#Only run the above one time to create the csv file\n",
    "\n",
    "\n"
   ]
  },
  {
   "cell_type": "code",
   "execution_count": 18,
   "id": "83a0cb15",
   "metadata": {},
   "outputs": [
    {
     "name": "stdout",
     "output_type": "stream",
     "text": [
      "                                               Title   Price        Date\n",
      "0  Samsung AKG Y500 On Ear Bluetooth Headphones B...  £32.99  2022-04-05\n",
      "1  Samsung AKG Y500 On Ear Bluetooth Headphones B...  £32.99  2022-04-05\n"
     ]
    }
   ],
   "source": [
    "import pandas as pd\n",
    "\n",
    "df = pd.read_csv(r'C:\\Users\\Evans\\EbaywebscraperData.csv')\n",
    "\n",
    "print(df)"
   ]
  },
  {
   "cell_type": "code",
   "execution_count": 17,
   "id": "f8d49ddb",
   "metadata": {},
   "outputs": [],
   "source": [
    "#Appending more data to the csv\n",
    "\n",
    "with open('EbaywebscraperData.csv','a+',newline='', encoding='UTF8') as f:\n",
    "    writer = csv.writer(f)\n",
    "    writer.writerow(data)\n"
   ]
  },
  {
   "cell_type": "code",
   "execution_count": 19,
   "id": "ff6003ef",
   "metadata": {},
   "outputs": [],
   "source": [
    "def check_price():\n",
    "    URL = 'https://www.ebay.co.uk/itm/175132003976?_trkparms=%26rpp_cid%3D5d8cce9aa937f33a775e44ce%26rpp_icid%3D5d8cce9aa937f33a775e44cd&_trkparms=pageci%3A60a3bafa-b51b-11ec-8511-9eba6d7cc9ba%7Cparentrq%3Afb52aa1817f0a6e5cec15e9dffffeb00%7Ciid%3A1'\n",
    "    headers = {\n",
    "    \"User-Agent\": \"Mozilla/5.0 (Windows NT 10.0; Win64; x64) AppleWebKit/537.36 (KHTML, like Gecko) Chrome/100.0.4896.60 Safari/537.36\", \n",
    "    \"X-Amzn-Trace-Id\": \"Root=1-624b5065-0b8197a643465d4b21e37369\"\n",
    "    }\n",
    "    page = requests.get(URL,headers= headers)\n",
    "\n",
    "    soup1 = BeautifulSoup(page.content,\"html.parser\")\n",
    "\n",
    "    soup2 = BeautifulSoup(soup1.prettify(),\"html.parser\")\n",
    "\n",
    "    title = soup2.find(id='LeftSummaryPanel').get_text()\n",
    "\n",
    "    price = soup2.find(id='vi-mskumap-none').get_text()\n",
    "    \n",
    "    price = price.strip()\n",
    "    title = title.strip()\n",
    "    \n",
    "    import datetime\n",
    "\n",
    "    today = datetime.date.today()\n",
    "    \n",
    "    import csv\n",
    "\n",
    "    header = ['Title','Price','Date']\n",
    "    data = [title, price ,today]\n",
    "    \n",
    "    with open('EbaywebscraperData.csv','a+',newline='', encoding='UTF8') as f:\n",
    "        writer = csv.writer(f)\n",
    "        writer.writerow(data)\n",
    "    "
   ]
  },
  {
   "cell_type": "code",
   "execution_count": 20,
   "id": "d859662c",
   "metadata": {},
   "outputs": [
    {
     "ename": "KeyboardInterrupt",
     "evalue": "",
     "output_type": "error",
     "traceback": [
      "\u001b[1;31m---------------------------------------------------------------------------\u001b[0m",
      "\u001b[1;31mKeyboardInterrupt\u001b[0m                         Traceback (most recent call last)",
      "\u001b[1;32m~\\AppData\\Local\\Temp/ipykernel_22000/4212351095.py\u001b[0m in \u001b[0;36m<module>\u001b[1;34m\u001b[0m\n\u001b[0;32m      1\u001b[0m \u001b[1;32mwhile\u001b[0m\u001b[1;33m(\u001b[0m\u001b[1;32mTrue\u001b[0m\u001b[1;33m)\u001b[0m\u001b[1;33m:\u001b[0m\u001b[1;33m\u001b[0m\u001b[1;33m\u001b[0m\u001b[0m\n\u001b[0;32m      2\u001b[0m     \u001b[0mcheck_price\u001b[0m\u001b[1;33m(\u001b[0m\u001b[1;33m)\u001b[0m\u001b[1;33m\u001b[0m\u001b[1;33m\u001b[0m\u001b[0m\n\u001b[1;32m----> 3\u001b[1;33m     \u001b[0mtime\u001b[0m\u001b[1;33m.\u001b[0m\u001b[0msleep\u001b[0m\u001b[1;33m(\u001b[0m\u001b[1;36m5\u001b[0m\u001b[1;33m)\u001b[0m\u001b[1;33m\u001b[0m\u001b[1;33m\u001b[0m\u001b[0m\n\u001b[0m",
      "\u001b[1;31mKeyboardInterrupt\u001b[0m: "
     ]
    }
   ],
   "source": [
    "while(True):\n",
    "    check_price()\n",
    "    time.sleep(5)\n",
    "#I ran this for 15 seconds to see if additional entries have been added"
   ]
  },
  {
   "cell_type": "code",
   "execution_count": 21,
   "id": "d9dfb05e",
   "metadata": {},
   "outputs": [
    {
     "name": "stdout",
     "output_type": "stream",
     "text": [
      "                                               Title   Price        Date\n",
      "0  Samsung AKG Y500 On Ear Bluetooth Headphones B...  £32.99  2022-04-05\n",
      "1  Samsung AKG Y500 On Ear Bluetooth Headphones B...  £32.99  2022-04-05\n",
      "2  Samsung AKG Y500 On Ear Bluetooth Headphones B...  £32.99  2022-04-05\n",
      "3  Samsung AKG Y500 On Ear Bluetooth Headphones B...  £32.99  2022-04-05\n",
      "4  Samsung AKG Y500 On Ear Bluetooth Headphones B...  £32.99  2022-04-05\n"
     ]
    }
   ],
   "source": [
    "import pandas as pd\n",
    "\n",
    "df = pd.read_csv(r'C:\\Users\\Evans\\EbaywebscraperData.csv')\n",
    "\n",
    "print(df)"
   ]
  },
  {
   "cell_type": "code",
   "execution_count": null,
   "id": "17933f60",
   "metadata": {},
   "outputs": [],
   "source": []
  }
 ],
 "metadata": {
  "kernelspec": {
   "display_name": "Python 3 (ipykernel)",
   "language": "python",
   "name": "python3"
  },
  "language_info": {
   "codemirror_mode": {
    "name": "ipython",
    "version": 3
   },
   "file_extension": ".py",
   "mimetype": "text/x-python",
   "name": "python",
   "nbconvert_exporter": "python",
   "pygments_lexer": "ipython3",
   "version": "3.9.7"
  }
 },
 "nbformat": 4,
 "nbformat_minor": 5
}
